{
 "cells": [
  {
   "cell_type": "code",
   "execution_count": null,
   "metadata": {},
   "outputs": [
    {
     "name": "stdout",
     "output_type": "stream",
     "text": [
      "                                                                                                                           https://www.bayt.com/en/egypt/jobs/data-analytic-jobs/\n",
      "job_title                                           Company_name                  Company_locaton  experience  Ad_issuance                                              brief    \n",
      "Business Analytics & Insights Lead ELI & North ... Pfizer - United Arab Emirates Cairo · Egypt    Mid Career  30+ days ago  actionable recommendations. •Ensure prioritiza...    \n",
      "Senior Medical Manager- I&I Egypt with extended... Pfizer - United Arab Emirates Cairo · Egypt    Mid Career  30+ days ago                           staff in a team setting.    \n",
      "• Analytic and organizational skills in managin... NaN                           NaN              NaN         NaN                                                         NaN    \n",
      "• Ability to ...                                   NaN                           NaN              NaN         NaN                                                         NaN    \n",
      "External Audit Manager - Cairo                     EY                            Cairo · Egypt    -           6 days ago    interpreting and reacting to complex data - an...    \n",
      "Business Intelligence Specialist                   Misr Technology Services      Cairo · Egypt    -           30+ days ago  for making value out of data-Senior Business I...    \n",
      "Senior Social Media Analyst                        Talent 360                    Cairo · Egypt    -           30+ days ago  and best practices. •Analyze the data collecte...    \n",
      "Senior Data Scientist                              MoneyFellows                  Egypt            -           30+ days ago  data collection procedures to include informat...    \n",
      "Senior Media Buyer                                 Chefaa                        Egypt            -           30+ days ago  Analytics- Meta Pixel- and other analytic tool...    \n",
      "BUSINESS DOMAINS SOLUTIONS ARCHITECT               Commercial International Bank Cairo · Egypt    -           30+ days ago  of wide knowledge spanning business- data- and...    \n",
      "                                                   Cibeg                         Egypt            -           30+ days ago  of wide knowledge spanning business- data- and...    \n"
     ]
    }
   ],
   "source": [
    "import requests\n",
    "from bs4 import BeautifulSoup\n",
    "import pandas as pd\n",
    "#job= 'hr-director'                                                      # enter name of the job with '-' between words\n",
    "job = input('Please enter your job search.').replace(\" \", \"-\")           # enter the job search by asking the user\n",
    "url = f'https://www.bayt.com/en/egypt/jobs/{job}-jobs/'                  # the target URL\n",
    "request = requests.get(url)\n",
    "soup = BeautifulSoup(request.text,  'html.parser')\n",
    "containers = soup.findAll('li', {\"class\" : 'has-pointer-d'}) \n",
    "\n",
    "with open(f\"{job}.csv\", \"w\") as f:                                         # creating CSV file with the search result\n",
    "    f.write(f'{url}\\n')\n",
    "    f.write('job_title, Company_name, Company_locaton, experience, Ad_issuance, brief\\n')\n",
    "    for container in containers:\n",
    "        job_title  = container.findAll(\"a\")[0].text.strip().replace(',','-')\n",
    "        Company_name  = container.findAll(\"div\", {\"class\" : \"t-nowrap\"})[0].text.strip().split(' \\n')[0].replace(',','-')\n",
    "        Company_locaton  = container.findAll(\"div\",{\"class\" : \"t-mute t-small\"})[0].text.strip().replace(',','-')\n",
    "        try:\n",
    "            experience = container.findAll('dt',{\"class\": \"p0 m20r jb-label-careerlevel\"})[0].text.strip().replace(',','-')\n",
    "        except: \n",
    "            experience = \"-\"\n",
    "        Ad_issuance = container.findAll('div',{\"class\": \"jb-date col p0x p0t t-mute\"})[0].text.strip().replace(',','-')\n",
    "        brief = container.findAll('div',{\"class\": 'jb-descr m10t t-small'})[0].text.strip().replace(',','-')\n",
    "        f.writelines(job_title + ',' + Company_name + ',' + Company_locaton + ',' + experience + ',' +  Ad_issuance + ',' + brief + \"\\n\")\n",
    "        \n",
    "myfile = (pd.read_csv(\"Bayt_jobs.csv\"))\n",
    "x = pd.DataFrame(myfile)\n",
    "print(myfile)\n"
   ]
  }
 ],
 "metadata": {
  "kernelspec": {
   "display_name": "base",
   "language": "python",
   "name": "python3"
  },
  "language_info": {
   "codemirror_mode": {
    "name": "ipython",
    "version": 3
   },
   "file_extension": ".py",
   "mimetype": "text/x-python",
   "name": "python",
   "nbconvert_exporter": "python",
   "pygments_lexer": "ipython3",
   "version": "3.11.7"
  }
 },
 "nbformat": 4,
 "nbformat_minor": 2
}
