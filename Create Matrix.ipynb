{
 "cells": [
  {
   "cell_type": "code",
   "execution_count": 119,
   "metadata": {},
   "outputs": [],
   "source": [
    "import random\n",
    "import pandas as pd\n",
    "from tkinter import *"
   ]
  },
  {
   "cell_type": "code",
   "execution_count": 126,
   "metadata": {},
   "outputs": [],
   "source": [
    "def Create_Table(matrix,total):\n",
    "    '''This function takes (matrix & total) and creats a table\n",
    "   (matrix) is the table dimention & (total) is the sum of each colmun & each row'''   \n",
    "    \n",
    "    \n",
    "    matrix=int(matrix) \n",
    "    spread = int(total / matrix * 1.6)\n",
    "    start = int(total / matrix / 2 )\n",
    "       \n",
    "    if  total <  matrix or matrix < 1 :\n",
    "       print(\"please enter logic combination\")\n",
    "       return \n",
    "       \n",
    "    mydict = dict()                                                              # Create table \n",
    "    for i in range(matrix):\n",
    "      x = [random.randint(start,spread) for i in range(matrix)]          \n",
    "      mydict[i] = x \n",
    "       \n",
    "    for i in range(matrix):                                                      # Adjust rows total\n",
    "       mydict[matrix-1][i] = 0\n",
    "       for e in range(matrix - 1):          \n",
    "          mydict[matrix-1][i] += int(mydict[e][i])\n",
    "       mydict[matrix-1][i] = total - mydict[matrix-1][i]  \n",
    "       \n",
    "    for i in range(matrix):                                                      # Adjust columns total  \n",
    "       mydict[i][matrix - 1] = total - sum(mydict[i]) + mydict[i][matrix - 1]             \n",
    "              \n",
    "    mydict[\"Total\"] = [0 for i in range(matrix)]                                 # Add total for rows  \n",
    "    for i in range(matrix):                                 \n",
    "       for e in range(matrix):\n",
    "          mydict[\"Total\"][i] += mydict[e][i]\n",
    "           \n",
    "    [mydict[i].append(sum(mydict[i])) for i in range(matrix)]                      #add total for columns\n",
    "\n",
    "    mydict[\"Total\"].append(sum(mydict[\"Total\"]))                                   #add total for column total\n",
    "\n",
    "    return pd.DataFrame(mydict)\n",
    "         \n",
    "   "
   ]
  }
 ],
 "metadata": {
  "kernelspec": {
   "display_name": "Python 3",
   "language": "python",
   "name": "python3"
  },
  "language_info": {
   "codemirror_mode": {
    "name": "ipython",
    "version": 3
   },
   "file_extension": ".py",
   "mimetype": "text/x-python",
   "name": "python",
   "nbconvert_exporter": "python",
   "pygments_lexer": "ipython3",
   "version": "3.11.7"
  }
 },
 "nbformat": 4,
 "nbformat_minor": 2
}
