{
 "cells": [
  {
   "cell_type": "code",
   "execution_count": 119,
   "metadata": {},
   "outputs": [],
   "source": [
    "import random\n",
    "import pandas as pd\n",
    "from tkinter import *"
   ]
  },
  {
   "cell_type": "code",
   "execution_count": 120,
   "metadata": {},
   "outputs": [],
   "source": [
    "def MyGame(matrix,total):\n",
    "    '''This function a game to guess the missed number in a table created based on\n",
    "   (matrix) which is the table dimention & (total) which is the sum of each colmun & each row'''\n",
    "    import copy\n",
    "    matrix = int(matrix) \n",
    "    spread = int(total / matrix * 1.6)\n",
    "    start = int(total / matrix / 2 )\n",
    "       \n",
    "    if  total <  matrix or matrix < 1 :\n",
    "       print(\"please enter logic combination\")\n",
    "       return\n",
    "       \n",
    "    mydict = dict()                                                              # Create table \n",
    "    for i in range(matrix):\n",
    "      x = [random.randint(start,spread) for i in range(matrix)]          \n",
    "      mydict[i] = x \n",
    "       \n",
    "    for i in range(matrix):                                                      # Adjust rows total\n",
    "       mydict[matrix-1][i] = 0\n",
    "       for e in range(matrix - 1):          \n",
    "          mydict[matrix-1][i] += int(mydict[e][i])\n",
    "       mydict[matrix-1][i] = total - mydict[matrix-1][i]  \n",
    "       \n",
    "    for i in range(matrix):                                                      # Adjust columns total  \n",
    "       mydict[i][matrix - 1] = total - sum(mydict[i]) + mydict[i][matrix - 1]             \n",
    "              \n",
    "    mydict[\"Total\"] = [0 for i in range(matrix)]                                 # Add total for rows  \n",
    "    for i in range(matrix):                                 \n",
    "       for e in range(matrix):\n",
    "          mydict[\"Total\"][i] += mydict[e][i]\n",
    "           \n",
    "    [mydict[i].append(sum(mydict[i])) for i in range(matrix)]                      #add total for columns\n",
    "\n",
    "    mydict[\"Total\"].append(sum(mydict[\"Total\"]))                                   #add total for column total\n",
    "   \n",
    "    newdict = copy.deepcopy(mydict)\n",
    "    solution = dict()  \n",
    "                                                               \n",
    "    for i in range(matrix):\n",
    "        for e in range(int(matrix ** 0.5 )):                                         # Create neaw table to add missed numbers\n",
    "            ran = random.randint(0,matrix-1)      \n",
    "            ky = \"(x-\" + str(i) + str(ran) + \")\"\n",
    "            val = mydict[i][ran]\n",
    "            solution.update({ky : val})                                             # Create dict with the solution\n",
    "            newdict[i][ran] = ky                                                     ##### Adding the missed numbers to the new table   xxxx\n",
    "    solution = dict(sorted(solution.items()))                                         # sort the solutiion dictionary\n",
    "    print(pd.DataFrame(newdict))\n",
    "    print(solution)\n",
    "\n",
    "    for i in solution.keys():                                                        # Guess the numbers\n",
    "        x = input(f\"please enter {i} value\")\n",
    "        if int(x) != solution[i]:\n",
    "           print(\" -- Wrong Number --\\n *** Game Over ***\")\n",
    "           break\n",
    "        else:\n",
    "           print(\"yes keep going\")\n",
    "    else:\n",
    "       print(\"congratulation you have solved the game\")       \n",
    "   "
   ]
  },
  {
   "cell_type": "code",
   "execution_count": null,
   "metadata": {},
   "outputs": [],
   "source": [
    "MyGame(7,1000)"
   ]
  }
 ],
 "metadata": {
  "kernelspec": {
   "display_name": "Python 3",
   "language": "python",
   "name": "python3"
  },
  "language_info": {
   "codemirror_mode": {
    "name": "ipython",
    "version": 3
   },
   "file_extension": ".py",
   "mimetype": "text/x-python",
   "name": "python",
   "nbconvert_exporter": "python",
   "pygments_lexer": "ipython3",
   "version": "3.11.7"
  }
 },
 "nbformat": 4,
 "nbformat_minor": 2
}
