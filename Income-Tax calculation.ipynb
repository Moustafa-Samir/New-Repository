{
 "cells": [
  {
   "cell_type": "code",
   "execution_count": 1,
   "metadata": {},
   "outputs": [],
   "source": [
    "def tax_calculation(income,social_insurance=0):\n",
    "\n",
    "    '''This function calculate the monthly tax based on \n",
    "    egyptian income tax law number 7 for year 2024 which amednedment for law number 91 for year 2005\n",
    "    function takes total income and taxable deduction like social insurance employee share'''\n",
    "\n",
    "    taxable_income = (income - social_insurance)*12-20000\n",
    "    tax = 0  \n",
    "    if taxable_income <= 600000:\n",
    "        if taxable_income <= 40000:\n",
    "            tax = 0\n",
    "        elif taxable_income <= 55000:\n",
    "            tax = (taxable_income - 40000 ) * 0.1  \n",
    "        elif taxable_income <= 70000:\n",
    "            tax = (15000 * 0.1) +  ((taxable_income - 55000) * 0.2)\n",
    "        elif  taxable_income <= 200000:  \n",
    "            tax = (15000 * 0.1) + (15000 * 0.15) + ((taxable_income - 70000) * 0.2)\n",
    "        elif  taxable_income <= 400000:  \n",
    "            tax = (15000 * 0.1) + (15000 * 0.15) + (130000 * 0.2) + ((taxable_income-200000) * 0.225)\n",
    "        else:\n",
    "            tax = (15000 * 0.1) + (15000 * 0.15) + (130000 * 0.2) + (200000 * 0.225)+ ((taxable_income - 400000) * 0.25)    \n",
    "\n",
    "    elif taxable_income <= 700000:\n",
    "            tax = (55000 * 0.1) + (15000 * 0.15) + (130000 * 0.2) + (200000 * 0.225)+ ((taxable_income - 400000) * 0.25)       \n",
    "\n",
    "    elif taxable_income <= 800000: \n",
    "            tax = (70000 * 0.15) + (130000 * 0.2) + (200000 * 0.225)+ ((taxable_income - 400000) * 0.25)  \n",
    "\n",
    "    elif taxable_income <= 900000:\n",
    "            tax = (200000 * 0.2) + (200000 * 0.225)+ ((taxable_income - 400000) * 0.25)  \n",
    "\n",
    "    elif taxable_income <= 1200000:          \n",
    "            tax = (400000 * 0.225)+ ((taxable_income - 400000) * 0.25)\n",
    "    else:\n",
    "            tax = (1200000 * 0.25)+ ((taxable_income - 1200000) * 0.275)     \n",
    "    monthly_tax = round(tax /12,2)\n",
    "    return monthly_tax"
   ]
  },
  {
   "cell_type": "code",
   "execution_count": 3,
   "metadata": {},
   "outputs": [
    {
     "data": {
      "text/plain": [
       "16583.33"
      ]
     },
     "execution_count": 3,
     "metadata": {},
     "output_type": "execute_result"
    }
   ],
   "source": [
    "tax_calculation(75000,2000)"
   ]
  }
 ],
 "metadata": {
  "kernelspec": {
   "display_name": "Python 3",
   "language": "python",
   "name": "python3"
  },
  "language_info": {
   "codemirror_mode": {
    "name": "ipython",
    "version": 3
   },
   "file_extension": ".py",
   "mimetype": "text/x-python",
   "name": "python",
   "nbconvert_exporter": "python",
   "pygments_lexer": "ipython3",
   "version": "3.11.7"
  }
 },
 "nbformat": 4,
 "nbformat_minor": 2
}
